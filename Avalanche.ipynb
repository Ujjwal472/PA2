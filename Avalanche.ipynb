{
 "cells": [
  {
   "cell_type": "markdown",
   "id": "cb07ebed",
   "metadata": {},
   "source": [
    "<b>THE DES ALGORITHM</b>"
   ]
  },
  {
   "cell_type": "code",
   "execution_count": 1,
   "id": "78ee7f02",
   "metadata": {},
   "outputs": [],
   "source": [
    "import random\n",
    "import statistics\n",
    "import matplotlib.pyplot as plt\n",
    "import matplotlib.lines as mlines"
   ]
  },
  {
   "cell_type": "code",
   "execution_count": 2,
   "id": "90d4c182",
   "metadata": {},
   "outputs": [],
   "source": [
    "# https://github.com/RobinDavid/pydes/blob/master/pydes.py\n",
    "PI = [58, 50, 42, 34, 26, 18, 10, 2,\n",
    "      60, 52, 44, 36, 28, 20, 12, 4,\n",
    "      62, 54, 46, 38, 30, 22, 14, 6,\n",
    "      64, 56, 48, 40, 32, 24, 16, 8,\n",
    "      57, 49, 41, 33, 25, 17, 9, 1,\n",
    "      59, 51, 43, 35, 27, 19, 11, 3,\n",
    "      61, 53, 45, 37, 29, 21, 13, 5,\n",
    "      63, 55, 47, 39, 31, 23, 15, 7]\n",
    "\n",
    "#Initial permut made on the key\n",
    "CP_1 = [57, 49, 41, 33, 25, 17, 9,\n",
    "        1, 58, 50, 42, 34, 26, 18,\n",
    "        10, 2, 59, 51, 43, 35, 27,\n",
    "        19, 11, 3, 60, 52, 44, 36,\n",
    "        63, 55, 47, 39, 31, 23, 15,\n",
    "        7, 62, 54, 46, 38, 30, 22,\n",
    "        14, 6, 61, 53, 45, 37, 29,\n",
    "        21, 13, 5, 28, 20, 12, 4]\n",
    "\n",
    "#Permut applied on shifted key to get Ki+1\n",
    "CP_2 = [14, 17, 11, 24, 1, 5, 3, 28,\n",
    "        15, 6, 21, 10, 23, 19, 12, 4,\n",
    "        26, 8, 16, 7, 27, 20, 13, 2,\n",
    "        41, 52, 31, 37, 47, 55, 30, 40,\n",
    "        51, 45, 33, 48, 44, 49, 39, 56,\n",
    "        34, 53, 46, 42, 50, 36, 29, 32]\n",
    "\n",
    "#Expand matrix to get a 48bits matrix of datas to apply the xor with Ki\n",
    "E = [32, 1, 2, 3, 4, 5,\n",
    "     4, 5, 6, 7, 8, 9,\n",
    "     8, 9, 10, 11, 12, 13,\n",
    "     12, 13, 14, 15, 16, 17,\n",
    "     16, 17, 18, 19, 20, 21,\n",
    "     20, 21, 22, 23, 24, 25,\n",
    "     24, 25, 26, 27, 28, 29,\n",
    "     28, 29, 30, 31, 32, 1]\n",
    "\n",
    "#SBOX\n",
    "S_BOX = [\n",
    "         \n",
    "[[14, 4, 13, 1, 2, 15, 11, 8, 3, 10, 6, 12, 5, 9, 0, 7],\n",
    " [0, 15, 7, 4, 14, 2, 13, 1, 10, 6, 12, 11, 9, 5, 3, 8],\n",
    " [4, 1, 14, 8, 13, 6, 2, 11, 15, 12, 9, 7, 3, 10, 5, 0],\n",
    " [15, 12, 8, 2, 4, 9, 1, 7, 5, 11, 3, 14, 10, 0, 6, 13],\n",
    "],\n",
    "\n",
    "[[15, 1, 8, 14, 6, 11, 3, 4, 9, 7, 2, 13, 12, 0, 5, 10],\n",
    " [3, 13, 4, 7, 15, 2, 8, 14, 12, 0, 1, 10, 6, 9, 11, 5],\n",
    " [0, 14, 7, 11, 10, 4, 13, 1, 5, 8, 12, 6, 9, 3, 2, 15],\n",
    " [13, 8, 10, 1, 3, 15, 4, 2, 11, 6, 7, 12, 0, 5, 14, 9],\n",
    "],\n",
    "\n",
    "[[10, 0, 9, 14, 6, 3, 15, 5, 1, 13, 12, 7, 11, 4, 2, 8],\n",
    " [13, 7, 0, 9, 3, 4, 6, 10, 2, 8, 5, 14, 12, 11, 15, 1],\n",
    " [13, 6, 4, 9, 8, 15, 3, 0, 11, 1, 2, 12, 5, 10, 14, 7],\n",
    " [1, 10, 13, 0, 6, 9, 8, 7, 4, 15, 14, 3, 11, 5, 2, 12],\n",
    "],\n",
    "\n",
    "[[7, 13, 14, 3, 0, 6, 9, 10, 1, 2, 8, 5, 11, 12, 4, 15],\n",
    " [13, 8, 11, 5, 6, 15, 0, 3, 4, 7, 2, 12, 1, 10, 14, 9],\n",
    " [10, 6, 9, 0, 12, 11, 7, 13, 15, 1, 3, 14, 5, 2, 8, 4],\n",
    " [3, 15, 0, 6, 10, 1, 13, 8, 9, 4, 5, 11, 12, 7, 2, 14],\n",
    "],  \n",
    "\n",
    "[[2, 12, 4, 1, 7, 10, 11, 6, 8, 5, 3, 15, 13, 0, 14, 9],\n",
    " [14, 11, 2, 12, 4, 7, 13, 1, 5, 0, 15, 10, 3, 9, 8, 6],\n",
    " [4, 2, 1, 11, 10, 13, 7, 8, 15, 9, 12, 5, 6, 3, 0, 14],\n",
    " [11, 8, 12, 7, 1, 14, 2, 13, 6, 15, 0, 9, 10, 4, 5, 3],\n",
    "], \n",
    "\n",
    "[[12, 1, 10, 15, 9, 2, 6, 8, 0, 13, 3, 4, 14, 7, 5, 11],\n",
    " [10, 15, 4, 2, 7, 12, 9, 5, 6, 1, 13, 14, 0, 11, 3, 8],\n",
    " [9, 14, 15, 5, 2, 8, 12, 3, 7, 0, 4, 10, 1, 13, 11, 6],\n",
    " [4, 3, 2, 12, 9, 5, 15, 10, 11, 14, 1, 7, 6, 0, 8, 13],\n",
    "], \n",
    "\n",
    "[[4, 11, 2, 14, 15, 0, 8, 13, 3, 12, 9, 7, 5, 10, 6, 1],\n",
    " [13, 0, 11, 7, 4, 9, 1, 10, 14, 3, 5, 12, 2, 15, 8, 6],\n",
    " [1, 4, 11, 13, 12, 3, 7, 14, 10, 15, 6, 8, 0, 5, 9, 2],\n",
    " [6, 11, 13, 8, 1, 4, 10, 7, 9, 5, 0, 15, 14, 2, 3, 12],\n",
    "],\n",
    "   \n",
    "[[13, 2, 8, 4, 6, 15, 11, 1, 10, 9, 3, 14, 5, 0, 12, 7],\n",
    " [1, 15, 13, 8, 10, 3, 7, 4, 12, 5, 6, 11, 0, 14, 9, 2],\n",
    " [7, 11, 4, 1, 9, 12, 14, 2, 0, 6, 10, 13, 15, 3, 5, 8],\n",
    " [2, 1, 14, 7, 4, 10, 8, 13, 15, 12, 9, 0, 3, 5, 6, 11],\n",
    "]\n",
    "]\n",
    "\n",
    "#Permut made after each SBox substitution for each round\n",
    "P = [16, 7, 20, 21, 29, 12, 28, 17,\n",
    "     1, 15, 23, 26, 5, 18, 31, 10,\n",
    "     2, 8, 24, 14, 32, 27, 3, 9,\n",
    "     19, 13, 30, 6, 22, 11, 4, 25]\n",
    "\n",
    "#Final permut for datas after the 16 rounds\n",
    "PI_1 = [40, 8, 48, 16, 56, 24, 64, 32,\n",
    "        39, 7, 47, 15, 55, 23, 63, 31,\n",
    "        38, 6, 46, 14, 54, 22, 62, 30,\n",
    "        37, 5, 45, 13, 53, 21, 61, 29,\n",
    "        36, 4, 44, 12, 52, 20, 60, 28,\n",
    "        35, 3, 43, 11, 51, 19, 59, 27,\n",
    "        34, 2, 42, 10, 50, 18, 58, 26,\n",
    "        33, 1, 41, 9, 49, 17, 57, 25]\n",
    "\n",
    "#Matrix that determine the shift for each round of keys\n",
    "SHIFT = [1,1,2,2,2,2,2,2,1,2,2,2,2,2,2,1]\n",
    "\n",
    "def string_to_bit_array(text):#Convert a string into a list of bits\n",
    "    array = list()\n",
    "    for char in text:\n",
    "        binval = binvalue(char, 8)#Get the char value on one byte\n",
    "        array.extend([int(x) for x in list(binval)]) #Add the bits to the final list\n",
    "    return array\n",
    "\n",
    "def hamming_distance(a1, a2): # finds the hamming distance between the two bit arrays\n",
    "    assert len(a1) == len(a2)\n",
    "    dist = 0\n",
    "    for i in range(len(a1)):\n",
    "        if a1[i] != a2[i]:\n",
    "            dist += 1\n",
    "    return dist\n",
    "\n",
    "def string_to_bit_array_as_it_is(text):\n",
    "    # converts a hexadecimal string into a binary valued array\n",
    "    bits = list()\n",
    "    mp = {\n",
    "        '0': [0, 0, 0, 0],\n",
    "        '1': [0, 0, 0, 1],\n",
    "        '2': [0, 0, 1, 0],\n",
    "        '3': [0, 0, 1, 1],\n",
    "        '4': [0, 1, 0, 0],\n",
    "        '5': [0, 1, 0, 1],\n",
    "        '6': [0, 1, 1, 0],\n",
    "        '7': [0, 1, 1, 1],\n",
    "        '8': [1, 0, 0, 0],\n",
    "        '9': [1, 0, 0, 1],\n",
    "        'a': [1, 0, 1, 0],\n",
    "        'b': [1, 0, 1, 1],\n",
    "        'c': [1, 1, 0, 0],\n",
    "        'd': [1, 1, 0, 1],\n",
    "        'e': [1, 1, 1, 0],\n",
    "        'f': [1, 1, 1, 1]\n",
    "    }\n",
    "    for i in range(len(text)):\n",
    "        bits.extend(mp[text[i]])\n",
    "\n",
    "    return bits\n",
    "\n",
    "def bit_array_to_string(array): #Recreate the string from the bit array\n",
    "    res = ''.join([chr(int(y,2)) for y in [''.join([str(x) for x in _bytes]) for _bytes in  nsplit(array,8)]])   \n",
    "    return res\n",
    "\n",
    "def bit_array_to_hex_string(array):\n",
    "    resp = ''\n",
    "    for i in range(0, len(array), 4):\n",
    "        val = array[i] * 2 ** 3 + array[i + 1] * 2 ** 2 + array[i + 2] * 2 ** 1 + array[i + 3]\n",
    "        if val >= 0 and val <= 9:\n",
    "            resp += str(val)\n",
    "        else:\n",
    "            resp += chr(ord('a') + val - 10)\n",
    "\n",
    "    return resp\n",
    "\n",
    "def binvalue(val, bitsize): #Return the binary value as a string of the given size \n",
    "    binval = bin(val)[2:] if isinstance(val, int) else bin(ord(val))[2:]\n",
    "    if len(binval) > bitsize:\n",
    "        raise \"binary value larger than the expected size\"\n",
    "    while len(binval) < bitsize:\n",
    "        binval = \"0\"+binval #Add as many 0 as needed to get the wanted size\n",
    "    return binval\n",
    "\n",
    "def nsplit(s, n):#Split a list into sublists of size \"n\"\n",
    "    return [s[k:k+n] for k in range(0, len(s), n)]\n",
    "\n",
    "ENCRYPT=1\n",
    "DECRYPT=0\n",
    "\n",
    "class des():\n",
    "    def __init__(self):\n",
    "        self.password = None\n",
    "        self.text = None\n",
    "        self.keys = list()\n",
    "        self.round_results = [] # contains the hexstring after each round of the algorithm\n",
    "    \n",
    "    def clear(self):\n",
    "        self.round_results = [] # reset the round results to an empty array\n",
    "        \n",
    "    def run(self, key, text, action=ENCRYPT, padding=False):\n",
    "        # if len(key) < 8:\n",
    "        #     raise \"Key Should be 8 bytes long\"\n",
    "        # elif len(key) > 8:\n",
    "        #     key = key[:8] #If key size is above 8bytes, cut to be 8bytes long\n",
    "        \n",
    "        self.password = key\n",
    "        self.text = text\n",
    "        \n",
    "        if padding and action==ENCRYPT:\n",
    "            self.addPadding()\n",
    "        elif len(self.text) % 8 != 0:#If not padding specified data size must be multiple of 8 bytes\n",
    "            raise \"Data size should be multiple of 8\"\n",
    "        \n",
    "        self.generatekeys() #Generate all the keys\n",
    "\n",
    "        text_blocks = nsplit(self.text, 16) #Split the text in blocks of 8 bytes so 64 bits\n",
    " \n",
    "        result = list()\n",
    "        for block in text_blocks:#Loop over all the blocks of data\n",
    "            block = string_to_bit_array_as_it_is(block)#Convert the block in bit array\n",
    "            block = self.permut(block,PI)#Apply the initial permutation\n",
    "            g, d = nsplit(block, 32) #g(LEFT), d(RIGHT)\n",
    "            tmp = None\n",
    "            self.round_results.append(self.text)\n",
    "            for i in range(16): #Do the 16 rounds\n",
    "                d_e = self.expand(d, E) #Expand d to match Ki size (48bits)\n",
    "                if action == ENCRYPT:\n",
    "                    tmp = self.xor(self.keys[i], d_e)#If encrypt use Ki\n",
    "                else:\n",
    "                    tmp = self.xor(self.keys[15-i], d_e)#If decrypt start by the last key\n",
    "                tmp = self.substitute(tmp) #Method that will apply the SBOXes\n",
    "                tmp = self.permut(tmp, P)\n",
    "                tmp = self.xor(g, tmp)\n",
    "                g = d\n",
    "                d = tmp\n",
    "\n",
    "                self.round_results.append(bit_array_to_hex_string(g) + bit_array_to_hex_string(d))\n",
    "\n",
    "            result += self.permut(d+g, PI_1) #Do the last permut and append the result to result\n",
    "        # final_res = bit_array_to_string(result)\n",
    "        # if padding and action==DECRYPT:\n",
    "        #     return self.removePadding(final_res) #Remove the padding if decrypt and padding is true\n",
    "        # else:\n",
    "        #     return final_res #Return the final string of data ciphered/deciphered\n",
    "        return bit_array_to_hex_string(result)\n",
    "    \n",
    "    def substitute(self, d_e):#Substitute bytes using SBOX\n",
    "        subblocks = nsplit(d_e, 6)#Split bit array into sublist of 6 bits\n",
    "        result = list()\n",
    "        for i in range(len(subblocks)): #For all the sublists\n",
    "            block = subblocks[i]\n",
    "            row = int(str(block[0])+str(block[5]),2)#Get the row with the first and last bit\n",
    "            column = int(''.join([str(x) for x in block[1:][:-1]]),2) #Column is the 2,3,4,5th bits\n",
    "            val = S_BOX[i][row][column] #Take the value in the SBOX appropriated for the round (i)\n",
    "            bin = binvalue(val, 4)#Convert the value to binary\n",
    "            result += [int(x) for x in bin]#And append it to the resulting list\n",
    "        return result\n",
    "        \n",
    "    def permut(self, block, table):#Permut the given block using the given table (so generic method)\n",
    "        return [block[x-1] for x in table]\n",
    "    \n",
    "    def expand(self, block, table):#Do the exact same thing than permut but for more clarity has been renamed\n",
    "        return [block[x-1] for x in table]\n",
    "    \n",
    "    def xor(self, t1, t2):#Apply a xor and return the resulting list\n",
    "        return [x^y for x,y in zip(t1,t2)]\n",
    "    \n",
    "    def generatekeys(self):#Algorithm that generates all the keys\n",
    "        self.keys = []\n",
    "        key = string_to_bit_array_as_it_is(self.password)\n",
    "        key = self.permut(key, CP_1) #Apply the initial permut on the key\n",
    "        g, d = nsplit(key, 28) #Split it in to (g->LEFT),(d->RIGHT)\n",
    "        for i in range(16):#Apply the 16 rounds\n",
    "            g, d = self.shift(g, d, SHIFT[i]) #Apply the shift associated with the round (not always 1)\n",
    "            tmp = g + d #Merge them\n",
    "            self.keys.append(self.permut(tmp, CP_2)) #Apply the permut to get the Ki\n",
    "\n",
    "    def shift(self, g, d, n): #Shift a list of the given value\n",
    "        return g[n:] + g[:n], d[n:] + d[:n]\n",
    "    \n",
    "    def addPadding(self):#Add padding to the datas using PKCS5 spec.\n",
    "        pad_len = 8 - (len(self.text) % 8)\n",
    "        self.text += pad_len * chr(pad_len)\n",
    "    \n",
    "    def removePadding(self, data):#Remove the padding of the plain text (it assume there is padding)\n",
    "        pad_len = ord(data[-1])\n",
    "        return data[:-pad_len]\n",
    "    \n",
    "    def encrypt(self, key, text, padding=False):\n",
    "        return self.run(key, text, ENCRYPT, padding)\n",
    "    \n",
    "    def decrypt(self, key, text, padding=False):\n",
    "        return self.run(key, text, DECRYPT, padding)"
   ]
  },
  {
   "cell_type": "markdown",
   "id": "94602075",
   "metadata": {},
   "source": [
    "<b>Testing the DES algorithm with a book example</b>"
   ]
  },
  {
   "cell_type": "code",
   "execution_count": 3,
   "id": "551dcbde",
   "metadata": {},
   "outputs": [
    {
     "name": "stdout",
     "output_type": "stream",
     "text": [
      "round 0 : 02468aceeca86420\n",
      "round 1 : 3cf03c0fbad22845\n",
      "round 2 : bad2284599e9b723\n",
      "round 3 : 99e9b7230bae3b9e\n",
      "round 4 : 0bae3b9e42415649\n",
      "round 5 : 4241564918b3fa41\n",
      "round 6 : 18b3fa419616fe23\n",
      "round 7 : 9616fe2367117cf2\n",
      "round 8 : 67117cf2c11bfc09\n",
      "round 9 : c11bfc09887fbc6c\n",
      "round 10 : 887fbc6c600f7e8b\n",
      "round 11 : 600f7e8bf596506e\n",
      "round 12 : f596506e738538b8\n",
      "round 13 : 738538b8c6a62c4e\n",
      "round 14 : c6a62c4e56b0bd75\n",
      "round 15 : 56b0bd7575e8fd8f\n",
      "round 16 : 75e8fd8f25896490\n",
      "Ciphered: 'da02ce3a89ecac3b'\n"
     ]
    }
   ],
   "source": [
    "\n",
    "'''\n",
    "    1. The round_results function in the des class is custom made for this assignment\n",
    "       and it stores all the hex values at the end of each round.\n",
    "    2. The code has been modified to work on the hex strings instead of simple ASCII \n",
    "       strings as was the case originally.\n",
    "'''\n",
    "\n",
    "key = \"0f1571c947d9e859\" # original key\n",
    "text = \"02468aceeca86420\" # original plaintext\n",
    "\n",
    "d = des()\n",
    "r = d.encrypt(key,text)\n",
    "\n",
    "for round_no in range(17):\n",
    "    print(\"round\", round_no, \":\", d.round_results[round_no])\n",
    "    \n",
    "print(\"Ciphered: %r\" % r)"
   ]
  },
  {
   "cell_type": "markdown",
   "id": "0878e8d2",
   "metadata": {},
   "source": [
    "<b>(i) Avalanche effect using 5 different plaintexts with a hamming distace of 1 from the original plaintext</b>"
   ]
  },
  {
   "cell_type": "code",
   "execution_count": 4,
   "id": "b70be088",
   "metadata": {},
   "outputs": [
    {
     "name": "stdout",
     "output_type": "stream",
     "text": [
      "['02468aceece86420', '02469aceeca86420', '02468aceeca84420', '00468aceeca86420', '02068aceeca86420']\n"
     ]
    }
   ],
   "source": [
    "# First generate 5 random plaintexts from the original plaintext by inverting 1 bit at random\n",
    "random.seed(7)\n",
    "rand_idx = random.sample(range(0, 64), 5) # generating 5 random bit indices\n",
    "\n",
    "plaintext_list = []\n",
    "\n",
    "# 5 plaintext strings are generated by inverting a single bit from the original plaintext string\n",
    "for idx in rand_idx:\n",
    "    plaintext_copy = string_to_bit_array_as_it_is(text)\n",
    "    plaintext_copy[idx] = 1 - plaintext_copy[idx]\n",
    "    plaintext_list.append(bit_array_to_hex_string(plaintext_copy))\n",
    "\n",
    "print(plaintext_list)"
   ]
  },
  {
   "cell_type": "code",
   "execution_count": 5,
   "id": "5020cc92",
   "metadata": {},
   "outputs": [],
   "source": [
    "# A check to ensure that all the generated strings have a hamming distance of 1 from the original plaintext\n",
    "for plaintext in plaintext_list:\n",
    "    assert hamming_distance(string_to_bit_array_as_it_is(text), string_to_bit_array_as_it_is(plaintext)) == 1"
   ]
  },
  {
   "cell_type": "code",
   "execution_count": 6,
   "id": "01e86390",
   "metadata": {},
   "outputs": [],
   "source": [
    "'''\n",
    "intermediate_values stores all the 17 hexstrings from the initial string to the input to the 16th round for all the 5 generated\n",
    "plaintext strings and the original plaintext string.\n",
    "'''\n",
    "intermediate_values = []\n",
    "intermediate_values.append(d.round_results) # add the intermediate values for the original plaintext\n",
    "\n",
    "for i in range(5):\n",
    "    d.clear() # clears the list of intermediate values from the previous encryption\n",
    "    res = d.encrypt(key, plaintext_list[i])\n",
    "    intermediate_values.append(d.round_results)"
   ]
  },
  {
   "cell_type": "code",
   "execution_count": 7,
   "id": "a0aacee5",
   "metadata": {},
   "outputs": [
    {
     "name": "stdout",
     "output_type": "stream",
     "text": [
      "[1, 1, 4, 14, 31, 34, 29, 30, 34, 34, 31, 34, 33, 31, 32, 35, 35]\n",
      "[1, 1, 3, 14, 35, 36, 29, 30, 30, 34, 30, 28, 35, 33, 35, 42, 38]\n",
      "[1, 1, 3, 10, 24, 31, 33, 37, 34, 33, 33, 29, 25, 24, 29, 30, 30]\n",
      "[1, 4, 15, 26, 31, 34, 31, 29, 31, 29, 31, 34, 31, 31, 32, 35, 35]\n",
      "[1, 5, 16, 27, 31, 32, 29, 30, 34, 34, 35, 37, 36, 28, 32, 37, 34]\n",
      "[1, 1, 4, 12, 30, 36, 28, 30, 39, 36, 30, 35, 33, 31, 31, 33, 36]\n"
     ]
    }
   ],
   "source": [
    "# creating the list of hamming distance per-round for each of the 5 generated plaintexts\n",
    "hamming_distances = []\n",
    "for i in range(1, 6):\n",
    "    tmp = [] # tmp stores the hamming distances for each round hexstrings\n",
    "    for r in range(17):\n",
    "        tmp.append(hamming_distance(string_to_bit_array_as_it_is(intermediate_values[0][r]), string_to_bit_array_as_it_is(intermediate_values[i][r])))\n",
    "    hamming_distances.append(tmp)\n",
    "\n",
    "medians = [] # stores the medians of all the 5 strings for each of the rounds of the DES algorithm\n",
    "for i in range(17):\n",
    "    medians.append(statistics.median([hamming_distances[j][i] for j in range(5)]))\n",
    "\n",
    "# print to check\n",
    "print(medians)\n",
    "for i in range(5):\n",
    "    print(hamming_distances[i])"
   ]
  },
  {
   "cell_type": "code",
   "execution_count": 8,
   "id": "483427c4",
   "metadata": {},
   "outputs": [
    {
     "data": {
      "image/png": "[encoded data removed]",
      "text/plain": [
       "<Figure size 432x288 with 1 Axes>"
      ]
     },
     "metadata": {
      "needs_background": "light"
     },
     "output_type": "display_data"
    }
   ],
   "source": [
    "# points indicate hamming distances for each rounds and the line indicates the median values\n",
    "plt.ylabel('hamming distance')\n",
    "plt.xlabel('round number')\n",
    "red_dot = mlines.Line2D([], [], color='red', marker='o', linestyle='None',\n",
    "                          markersize=6, label='first plaintext')\n",
    "green_dot = mlines.Line2D([], [], color='green', marker='o', linestyle='None',\n",
    "                          markersize=6, label='second plaintext')\n",
    "blue_dot = mlines.Line2D([], [], color='blue', marker='o', linestyle='None',\n",
    "                          markersize=6, label='third plaintext')\n",
    "yellow_dot = mlines.Line2D([], [], color='yellow', marker='o', linestyle='None',\n",
    "                          markersize=6, label='fourth plaintext')\n",
    "cyan_dot = mlines.Line2D([], [], color='cyan', marker='o', linestyle='None',\n",
    "                          markersize=6, label='fifth plaintext')\n",
    "col = ['ro', 'go', 'bo', 'yo', 'co']\n",
    "for i in range(5):\n",
    "    plt.plot(list(range(17)), hamming_distances[i], col[i])\n",
    "plt.legend(handles = [red_dot, green_dot, blue_dot, yellow_dot, cyan_dot])\n",
    "\n",
    "plt.plot(list(range(17)), medians)\n",
    "\n",
    "plt.show()"
   ]
  },
  {
   "cell_type": "markdown",
   "id": "a655d1d0",
   "metadata": {},
   "source": [
    "<b>(ii) Avalanche effect using 5 different plaintexts with different hamming distances from the original plaintext</b>"
   ]
  },
  {
   "cell_type": "code",
   "execution_count": 9,
   "id": "39670c43",
   "metadata": {},
   "outputs": [
    {
     "name": "stdout",
     "output_type": "stream",
     "text": [
      "[7, 10, 20, 42, 51]\n"
     ]
    }
   ],
   "source": [
    "# generating 5 random hamming distances\n",
    "random.seed(7)\n",
    "random_hamming_distances = sorted(random.sample(range(1, 65), 5))\n",
    "print(random_hamming_distances)"
   ]
  },
  {
   "cell_type": "code",
   "execution_count": 21,
   "id": "e0c1f655",
   "metadata": {},
   "outputs": [
    {
     "name": "stdout",
     "output_type": "stream",
     "text": [
      "['1a068a8eece86429', '364a8bde68a86400', '1f458a9ef02809e1', '3d9ab13b10312ff7', 'ef3ce5613357b7df']\n"
     ]
    }
   ],
   "source": [
    "# generating 5 different plaintexts with a different hamming distance from the original plaintext as defined by the random_hamming_distances array\n",
    "plaintext_list2 = []\n",
    "intermediate_values2 = []\n",
    "random.seed(7)\n",
    "for hd in random_hamming_distances:\n",
    "    idxs = random.sample(range(0, 64), hd)\n",
    "    plaintext_copy = string_to_bit_array_as_it_is(text)\n",
    "    for idx in idxs:\n",
    "        plaintext_copy[idx] = 1 - plaintext_copy[idx]\n",
    "    plaintext_list2.append(bit_array_to_hex_string(plaintext_copy))\n",
    "\n",
    "print(plaintext_list2)"
   ]
  },
  {
   "cell_type": "code",
   "execution_count": 11,
   "id": "c1ffa4ba",
   "metadata": {},
   "outputs": [],
   "source": [
    "d.clear()\n",
    "r = d.encrypt(key, text)\n",
    "intermediate_values2.append(d.round_results)"
   ]
  },
  {
   "cell_type": "code",
   "execution_count": 12,
   "id": "8414f904",
   "metadata": {},
   "outputs": [],
   "source": [
    "for i in range(5):\n",
    "    d.clear()\n",
    "    res = d.encrypt(key, plaintext_list2[i])\n",
    "    intermediate_values2.append(d.round_results)"
   ]
  },
  {
   "cell_type": "code",
   "execution_count": 20,
   "id": "fc001a90",
   "metadata": {},
   "outputs": [
    {
     "name": "stdout",
     "output_type": "stream",
     "text": [
      "[20, 25, 29, 26, 31, 36, 35, 34, 32, 28, 30, 37, 36, 33, 30, 34, 34]\n",
      "[7, 10, 23, 36, 38, 29, 35, 40, 32, 27, 32, 37, 36, 36, 30, 30, 34]\n",
      "[10, 12, 19, 26, 34, 37, 32, 29, 36, 35, 31, 31, 33, 36, 29, 24, 33]\n",
      "[20, 25, 29, 23, 28, 37, 38, 34, 28, 25, 30, 37, 38, 33, 33, 35, 38]\n",
      "[42, 33, 29, 26, 29, 36, 36, 34, 33, 28, 30, 44, 44, 28, 27, 35, 29]\n",
      "[51, 43, 36, 34, 31, 34, 32, 27, 29, 29, 30, 32, 31, 33, 35, 34, 35]\n"
     ]
    }
   ],
   "source": [
    "# creating the list of hamming distance per-round for each of the 5 generated plaintexts\n",
    "hamming_distances2 = []\n",
    "for i in range(1, 6):\n",
    "    tmp = []\n",
    "    for r in range(17):\n",
    "        tmp.append(hamming_distance(string_to_bit_array_as_it_is(intermediate_values2[0][r]), string_to_bit_array_as_it_is(intermediate_values2[i][r])))\n",
    "    hamming_distances2.append(tmp)\n",
    "\n",
    "medians2 = [] # stores the medians of all the 5 strings for each of the rounds of the DES algorithm\n",
    "for i in range(17):\n",
    "    medians2.append(statistics.median([hamming_distances2[j][i] for j in range(5)]))\n",
    "    \n",
    "print(medians2)\n",
    "for i in range(5):\n",
    "    print(hamming_distances2[i])"
   ]
  },
  {
   "cell_type": "code",
   "execution_count": 14,
   "id": "e56712e5",
   "metadata": {},
   "outputs": [
    {
     "data": {
      "image/png": "[encoded data removed]",
      "text/plain": [
       "<Figure size 432x288 with 1 Axes>"
      ]
     },
     "metadata": {
      "needs_background": "light"
     },
     "output_type": "display_data"
    }
   ],
   "source": [
    "plt.ylabel('hamming distance')\n",
    "plt.xlabel('round number')\n",
    "red_dot = mlines.Line2D([], [], color='red', marker='o', linestyle='None',\n",
    "                          markersize=6, label='hamming distance = 7')\n",
    "green_dot = mlines.Line2D([], [], color='green', marker='o', linestyle='None',\n",
    "                          markersize=6, label='hamming distance = 10')\n",
    "blue_dot = mlines.Line2D([], [], color='blue', marker='o', linestyle='None',\n",
    "                          markersize=6, label='hamming distance = 20')\n",
    "yellow_dot = mlines.Line2D([], [], color='yellow', marker='o', linestyle='None',\n",
    "                          markersize=6, label='hamming distance = 42')\n",
    "cyan_dot = mlines.Line2D([], [], color='cyan', marker='o', linestyle='None',\n",
    "                          markersize=6, label='hamming distance = 51')\n",
    "for i in range(5):\n",
    "    plt.plot(list(range(17)), hamming_distances2[i], col[i])\n",
    "plt.legend(handles = [red_dot, green_dot, blue_dot, yellow_dot, cyan_dot])\n",
    "\n",
    "plt.plot(list(range(17)), medians2)\n",
    "\n",
    "plt.show()"
   ]
  },
  {
   "cell_type": "markdown",
   "id": "d807292c",
   "metadata": {},
   "source": [
    "<b>(iii) Avalanche effect using 5 different keys with a hamming distace of 1 from the original key keeping the plaintext same</b>"
   ]
  },
  {
   "cell_type": "code",
   "execution_count": 15,
   "id": "bc7fd672",
   "metadata": {},
   "outputs": [
    {
     "name": "stdout",
     "output_type": "stream",
     "text": [
      "['0a468aceeca86420', '02468aceeca86620', '02468aceeca86424', '42468aceeca86420', '02468aeeeca86420']\n"
     ]
    }
   ],
   "source": [
    "# First generate 5 random keys from the original key by inverting 1 bit at random\n",
    "random.seed(10)\n",
    "rand_idx = random.sample(range(0, 64), 5)\n",
    "\n",
    "keys_list = []\n",
    "for idx in rand_idx:\n",
    "    plaintext_copy = string_to_bit_array_as_it_is(text)\n",
    "    plaintext_copy[idx] = 1 - plaintext_copy[idx]\n",
    "    keys_list.append(bit_array_to_hex_string(plaintext_copy))\n",
    "\n",
    "print(keys_list)"
   ]
  },
  {
   "cell_type": "code",
   "execution_count": 16,
   "id": "a7a2c71a",
   "metadata": {},
   "outputs": [],
   "source": [
    "d.clear()\n",
    "r = d.encrypt(key, text)\n",
    "\n",
    "intermediate_values3 = []\n",
    "intermediate_values3.append(d.round_results)"
   ]
  },
  {
   "cell_type": "code",
   "execution_count": 17,
   "id": "2cae0ff5",
   "metadata": {},
   "outputs": [],
   "source": [
    "for i in range(5):\n",
    "    d.clear()\n",
    "    res = d.encrypt(keys_list[i], text)\n",
    "    intermediate_values3.append(d.round_results)"
   ]
  },
  {
   "cell_type": "code",
   "execution_count": 18,
   "id": "6105ab58",
   "metadata": {},
   "outputs": [
    {
     "name": "stdout",
     "output_type": "stream",
     "text": [
      "[0, 18, 35, 37, 32, 28, 31, 32, 30, 32, 35, 34, 35, 35, 31, 29, 33]\n",
      "[0, 18, 37, 39, 34, 30, 33, 36, 39, 40, 37, 34, 37, 35, 27, 27, 27]\n",
      "[0, 16, 35, 39, 32, 22, 27, 33, 37, 38, 37, 34, 35, 41, 31, 29, 35]\n",
      "[0, 15, 35, 37, 36, 33, 27, 28, 25, 24, 32, 37, 34, 31, 31, 28, 33]\n",
      "[0, 20, 35, 36, 32, 28, 38, 32, 28, 32, 33, 36, 36, 35, 34, 37, 32]\n",
      "[0, 18, 36, 30, 24, 28, 31, 32, 30, 30, 35, 33, 26, 28, 30, 33, 38]\n"
     ]
    }
   ],
   "source": [
    "# creating the list of hamming distance per-round for each of the 5 generated plaintexts\n",
    "hamming_distances3 = []\n",
    "for i in range(1, 6):\n",
    "    tmp = []\n",
    "    for r in range(17):\n",
    "        tmp.append(hamming_distance(string_to_bit_array_as_it_is(intermediate_values3[0][r]), string_to_bit_array_as_it_is(intermediate_values3[i][r])))\n",
    "    hamming_distances3.append(tmp)\n",
    "\n",
    "# generating the medians \n",
    "medians3 = []\n",
    "for i in range(17):\n",
    "    medians3.append(statistics.median([hamming_distances3[j][i] for j in range(5)]))\n",
    "\n",
    "print(medians3)\n",
    "for i in range(5):\n",
    "    print(hamming_distances3[i])"
   ]
  },
  {
   "cell_type": "code",
   "execution_count": 19,
   "id": "6be74769",
   "metadata": {},
   "outputs": [
    {
     "data": {
      "image/png": "[encoded data removed]",
      "text/plain": [
       "<Figure size 432x288 with 1 Axes>"
      ]
     },
     "metadata": {
      "needs_background": "light"
     },
     "output_type": "display_data"
    }
   ],
   "source": [
    "plt.ylabel('hamming distance')\n",
    "plt.xlabel('round number')\n",
    "red_dot = mlines.Line2D([], [], color='red', marker='o', linestyle='None',\n",
    "                          markersize=4, label='key=02468aceece86420')\n",
    "green_dot = mlines.Line2D([], [], color='green', marker='o', linestyle='None',\n",
    "                          markersize=4, label='key=02469aceeca86420')\n",
    "blue_dot = mlines.Line2D([], [], color='blue', marker='o', linestyle='None',\n",
    "                          markersize=4, label='key=02468aceeca84420')\n",
    "yellow_dot = mlines.Line2D([], [], color='yellow', marker='o', linestyle='None',\n",
    "                          markersize=4, label='key=00468aceeca86420')\n",
    "cyan_dot = mlines.Line2D([], [], color='cyan', marker='o', linestyle='None',\n",
    "                          markersize=4, label='key=02068aceeca86420')\n",
    "col = ['ro', 'go', 'bo', 'yo', 'co']\n",
    "for i in range(5):\n",
    "    plt.plot(list(range(17)), hamming_distances3[i], col[i])\n",
    "plt.legend(handles = [red_dot, green_dot, blue_dot, yellow_dot, cyan_dot])\n",
    "\n",
    "plt.plot(list(range(17)), medians3)\n",
    "\n",
    "plt.show()"
   ]
  },
  {
   "cell_type": "code",
   "execution_count": null,
   "id": "12202774",
   "metadata": {},
   "outputs": [],
   "source": []
  },
  {
   "cell_type": "code",
   "execution_count": null,
   "id": "ea99211f",
   "metadata": {},
   "outputs": [],
   "source": []
  }
 ],
 "metadata": {
  "kernelspec": {
   "display_name": "Python 3 (ipykernel)",
   "language": "python",
   "name": "python3"
  },
  "language_info": {
   "codemirror_mode": {
    "name": "ipython",
    "version": 3
   },
   "file_extension": ".py",
   "mimetype": "text/x-python",
   "name": "python",
   "nbconvert_exporter": "python",
   "pygments_lexer": "ipython3",
   "version": "3.9.7"
  }
 },
 "nbformat": 4,
 "nbformat_minor": 5
}
